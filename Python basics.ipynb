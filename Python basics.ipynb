{
 "cells": [
  {
   "cell_type": "code",
   "execution_count": 11,
   "id": "b0b7e2fb",
   "metadata": {},
   "outputs": [
    {
     "name": "stdout",
     "output_type": "stream",
     "text": [
      "Ghulam Nabi\n",
      "22\n",
      "True\n"
     ]
    }
   ],
   "source": [
    "# Task 1 \n",
    "# (a)\n",
    "age = 22\n",
    "name = \"Ghulam Nabi\"\n",
    "student = True\n",
    "print(name)\n",
    "print(age)\n",
    "print(student)"
   ]
  },
  {
   "cell_type": "code",
   "execution_count": 16,
   "id": "8da557aa",
   "metadata": {},
   "outputs": [
    {
     "name": "stdout",
     "output_type": "stream",
     "text": [
      "Ghulam Nabi Smith\n",
      "47\n",
      "False\n"
     ]
    }
   ],
   "source": [
    "# (b)\n",
    "age_new = age + 25\n",
    "name_new = name + \" Smith\"\n",
    "student = False\n",
    "\n",
    "print(name_new)\n",
    "print(age_new)\n",
    "print(student)"
   ]
  },
  {
   "cell_type": "code",
   "execution_count": 17,
   "id": "030876b4",
   "metadata": {},
   "outputs": [
    {
     "name": "stdout",
     "output_type": "stream",
     "text": [
      "17.875\n"
     ]
    }
   ],
   "source": [
    "# Task 2\n",
    "# (a) \n",
    "width = 5.5\n",
    "height = 3.25\n",
    "area = width * height \n",
    "print(area)"
   ]
  },
  {
   "cell_type": "code",
   "execution_count": 19,
   "id": "28a94a1a",
   "metadata": {},
   "outputs": [
    {
     "name": "stdout",
     "output_type": "stream",
     "text": [
      "212.0\n"
     ]
    }
   ],
   "source": [
    "# (b)\n",
    "Celsius = 100\n",
    "Fahrenheit = (Celsius * 9/5) + 32\n",
    "print(Fahrenheit)\n"
   ]
  },
  {
   "cell_type": "code",
   "execution_count": 21,
   "id": "77bbeb66",
   "metadata": {},
   "outputs": [
    {
     "name": "stdout",
     "output_type": "stream",
     "text": [
      "78.53975\n"
     ]
    }
   ],
   "source": [
    "# (c)\n",
    "radius = 5\n",
    "area = 3.14159 * radius ** 2 # area of circle \n",
    "print(area)"
   ]
  },
  {
   "cell_type": "code",
   "execution_count": 22,
   "id": "e6685d4e",
   "metadata": {},
   "outputs": [
    {
     "name": "stdout",
     "output_type": "stream",
     "text": [
      "['apple', 'banana', 'orange', 'grape', 'kiwi']\n"
     ]
    }
   ],
   "source": [
    "# Task 3\n",
    "# (a)\n",
    "fruits = [\"apple\",\"banana\",\"orange\",\"grape\",\"kiwi\"]\n",
    "print(fruits)"
   ]
  },
  {
   "cell_type": "code",
   "execution_count": 23,
   "id": "55e51822",
   "metadata": {},
   "outputs": [
    {
     "name": "stdout",
     "output_type": "stream",
     "text": [
      "('January', 'February', 'March')\n"
     ]
    }
   ],
   "source": [
    "# (b)\n",
    "months = (\"January\",\"February\",\"March\")\n",
    "print(months)"
   ]
  },
  {
   "cell_type": "code",
   "execution_count": 24,
   "id": "0250c7ae",
   "metadata": {},
   "outputs": [
    {
     "name": "stdout",
     "output_type": "stream",
     "text": [
      "426\n",
      "53.25\n"
     ]
    }
   ],
   "source": [
    "# Task 4\n",
    "# (a)\n",
    "numbers = [12, 34, 45, 67, 89, 100, 23, 56]\n",
    "sum_of_numbers = sum(numbers) # sum of numbers\n",
    "avg_of_numbers = (sum_of_numbers/len(numbers)) # average of numbers \n",
    "\n",
    "print(sum_of_numbers)\n",
    "print(avg_of_numbers)"
   ]
  },
  {
   "cell_type": "code",
   "execution_count": 36,
   "id": "88bdcf60",
   "metadata": {},
   "outputs": [
    {
     "data": {
      "text/plain": [
       "['banana', 'orange', 'grape']"
      ]
     },
     "execution_count": 36,
     "metadata": {},
     "output_type": "execute_result"
    }
   ],
   "source": [
    "# (b)\n",
    "fruits = [\"apple\",\"banana\",\"orange\",\"grape\",\"kiwi\"]\n",
    "fruits.remove(\"apple\") # 1st element\n",
    "fruits.remove(\"kiwi\") # last element \n",
    "fruits"
   ]
  },
  {
   "cell_type": "code",
   "execution_count": 38,
   "id": "5b26ae52",
   "metadata": {},
   "outputs": [
    {
     "name": "stdout",
     "output_type": "stream",
     "text": [
      "{'USA': 'Washington DC', 'France': 'Paris', 'Japan': 'Tokyo'}\n"
     ]
    }
   ],
   "source": [
    "# Task 5\n",
    "# (a)\n",
    "capitals = {\n",
    "    \"USA\" : \"Washington DC\",\n",
    "    \"France\" : \"Paris\",\n",
    "    \"Japan\" : \"Tokyo\",\n",
    "}\n",
    "print(capitals)"
   ]
  },
  {
   "cell_type": "code",
   "execution_count": 40,
   "id": "4069d33f",
   "metadata": {},
   "outputs": [
    {
     "name": "stdout",
     "output_type": "stream",
     "text": [
      "{'USA': 'Washington DC', 'France': 'Paris', 'Japan': 'Tokyo', 'Germany': 'Berlin'}\n"
     ]
    }
   ],
   "source": [
    "# (b)\n",
    "capitals.update({'Germany':\"Berlin\"})\n",
    "print(capitals)"
   ]
  },
  {
   "cell_type": "code",
   "execution_count": 41,
   "id": "e81c489b",
   "metadata": {},
   "outputs": [
    {
     "name": "stdout",
     "output_type": "stream",
     "text": [
      "France is in the dictionary\n"
     ]
    }
   ],
   "source": [
    "# (c)\n",
    "if \"France\" in capitals:\n",
    "    print(\"France is in the dictionary\")\n",
    "else:\n",
    "    print(\"France is not in the dictionary\")"
   ]
  },
  {
   "cell_type": "code",
   "execution_count": 46,
   "id": "2d1cdc4b",
   "metadata": {},
   "outputs": [
    {
     "name": "stdout",
     "output_type": "stream",
     "text": [
      "Enter your number: 3\n",
      "Number is odd\n"
     ]
    }
   ],
   "source": [
    "# Task 6\n",
    "# (a)\n",
    "number = int(input(\"Enter your number: \"))\n",
    "if (number % 2 == 0):\n",
    "    print(\"The Number is even\")\n",
    "else:\n",
    "    print(\"The Number is odd\")"
   ]
  },
  {
   "cell_type": "code",
   "execution_count": 57,
   "id": "361b0b97",
   "metadata": {},
   "outputs": [
    {
     "name": "stdout",
     "output_type": "stream",
     "text": [
      "Eligible for Admission\n"
     ]
    }
   ],
   "source": [
    "# (b)\n",
    "age = 18\n",
    "GPA = 3.3\n",
    "if (age >= 18 and (GPA >= 3.0 and GPA <= 4.0)):\n",
    "    print(\"Eligible for Admission\")\n",
    "else:\n",
    "    print(\"Not Eligible for Admission\")\n",
    "    "
   ]
  },
  {
   "cell_type": "code",
   "execution_count": 58,
   "id": "be103448",
   "metadata": {},
   "outputs": [
    {
     "name": "stdout",
     "output_type": "stream",
     "text": [
      "{'apple', 'grape', 'orange', 'kiwi', 'banana'}\n"
     ]
    }
   ],
   "source": [
    "# Task 7\n",
    "# (a)\n",
    "fruits_set = {\"apple\",\"banana\",\"orange\",\"grape\",\"kiwi\"}\n",
    "print(fruits_set)"
   ]
  },
  {
   "cell_type": "code",
   "execution_count": 63,
   "id": "0071ae8f",
   "metadata": {},
   "outputs": [
    {
     "name": "stdout",
     "output_type": "stream",
     "text": [
      "Union: {1, 2, 3, 4, 5, 6, 7}\n",
      "Intersection:  {3, 4, 5}\n",
      "Difference:  {1, 2}\n",
      "Is set1 subset of set2? False\n"
     ]
    }
   ],
   "source": [
    "# (b)\n",
    "set1 = {1, 2, 3, 4, 5} \n",
    "set2 = {3, 4, 5, 6, 7}\n",
    "\n",
    "s3 = set1.union(set2)\n",
    "s4 = set1.intersection(set2)\n",
    "s5 = set1.difference(set2)\n",
    "print(\"Union:\",s3)\n",
    "print(\"Intersection: \",s4)\n",
    "print(\"Difference: \",s5)\n",
    "print(\"Is set1 subset of set2?\", set1.issubset(set2))"
   ]
  },
  {
   "cell_type": "code",
   "execution_count": 73,
   "id": "7a3d21f6",
   "metadata": {},
   "outputs": [
    {
     "name": "stdout",
     "output_type": "stream",
     "text": [
      "Length of String: 39\n",
      "UpperCase String: PYTHON PROGRAMMING IS FUN AND POWERFUL!\n",
      "Replacing String: Python programming is exciting and powerful!\n",
      "Checking String: 0\n",
      "Splitting String:  ['Python', 'programming', 'is', 'fun', 'and', 'powerful!']\n"
     ]
    }
   ],
   "source": [
    "# Task 8\n",
    "# (a)\n",
    "string = \"Python programming is fun and powerful!\"\n",
    "print(\"Length of String:\",len(string)) # length\n",
    "print(\"UpperCase String:\",string.upper()) # upper case\n",
    "print(\"Replacing String:\",string.replace(\"fun\",\"exciting\")) # replace \n",
    "print(\"Checking String:\",string.find(\"Python\"))  # find\n",
    "print(\"Splitting String: \", string.split()) #splitting string into words"
   ]
  },
  {
   "cell_type": "code",
   "execution_count": 1,
   "id": "9cf3c837",
   "metadata": {},
   "outputs": [
    {
     "name": "stdout",
     "output_type": "stream",
     "text": [
      "The number of vowels in the string is:  10\n"
     ]
    }
   ],
   "source": [
    "# Task 9\n",
    "# (a) \n",
    "\n",
    "def num_vowels(string):\n",
    "    vowels = ['a','e','i','o','u','A','B','C','D','E']\n",
    "    count = 0\n",
    "    for i in string:\n",
    "        if i in vowels:\n",
    "            count += 1   \n",
    "    return count\n",
    "\n",
    "\n",
    "string = \"Learning Python is fun and engaging\"\n",
    "result = num_vowels(string)\n",
    "print(\"The number of vowels in the string is: \",result)\n",
    "\n",
    "\n",
    "    "
   ]
  },
  {
   "cell_type": "code",
   "execution_count": 3,
   "id": "da469e0f",
   "metadata": {},
   "outputs": [
    {
     "name": "stdout",
     "output_type": "stream",
     "text": [
      "2.5 hours into minutes:  150.0\n"
     ]
    }
   ],
   "source": [
    "# (b)\n",
    "\n",
    "def hours_to_min(hours):\n",
    "    hours_min = hours*60\n",
    "    return hours_min\n",
    "\n",
    "Mins = hours_to_min(2.5)\n",
    "print(\"2.5 hours into minutes: \",Mins)\n",
    "\n"
   ]
  },
  {
   "cell_type": "code",
   "execution_count": 3,
   "id": "8b945459",
   "metadata": {},
   "outputs": [
    {
     "name": "stdout",
     "output_type": "stream",
     "text": [
      "1 x 8 = 8\n",
      "2 x 8 = 16\n",
      "3 x 8 = 24\n",
      "4 x 8 = 32\n",
      "5 x 8 = 40\n",
      "6 x 8 = 48\n",
      "7 x 8 = 56\n",
      "8 x 8 = 64\n",
      "9 x 8 = 72\n",
      "10 x 8 = 80\n",
      "11 x 8 = 88\n",
      "12 x 8 = 96\n"
     ]
    }
   ],
   "source": [
    "# (c)\n",
    "\n",
    "def multiplication_table(number):\n",
    "    for i in range(1,13):\n",
    "        result = i * number\n",
    "        print(f\"{i} x {number} = {result}\")\n",
    "\n",
    "      \n",
    "multiplication_table(8)\n",
    "   \n",
    "    "
   ]
  }
 ],
 "metadata": {
  "kernelspec": {
   "display_name": "Python 3 (ipykernel)",
   "language": "python",
   "name": "python3"
  },
  "language_info": {
   "codemirror_mode": {
    "name": "ipython",
    "version": 3
   },
   "file_extension": ".py",
   "mimetype": "text/x-python",
   "name": "python",
   "nbconvert_exporter": "python",
   "pygments_lexer": "ipython3",
   "version": "3.9.13"
  }
 },
 "nbformat": 4,
 "nbformat_minor": 5
}
